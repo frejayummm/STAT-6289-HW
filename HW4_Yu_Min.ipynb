{
  "nbformat": 4,
  "nbformat_minor": 0,
  "metadata": {
    "colab": {
      "name": "HW4_Yu_Min.ipynb",
      "provenance": []
    },
    "kernelspec": {
      "name": "python3",
      "display_name": "Python 3"
    },
    "language_info": {
      "name": "python"
    }
  },
  "cells": [
    {
      "cell_type": "code",
      "source": [
        "# Install Magnitude on Google Colab\n",
        "! echo \"Installing Magnitude.... (please wait, can take a while)\"\n",
        "! (curl https://raw.githubusercontent.com/plasticityai/magnitude/master/install-colab.sh | /bin/bash 1>/dev/null 2>/dev/null)\n",
        "! echo \"Done installing Magnitude."
      ],
      "metadata": {
        "colab": {
          "base_uri": "https://localhost:8080/"
        },
        "id": "axeEU6GtvMh5",
        "outputId": "b6602b31-04e8-4fed-9a4c-847014251dea"
      },
      "execution_count": 6,
      "outputs": [
        {
          "output_type": "stream",
          "name": "stdout",
          "text": [
            "Installing Magnitude.... (please wait, can take a while)\n",
            "  % Total    % Received % Xferd  Average Speed   Time    Time     Time  Current\n",
            "                                 Dload  Upload   Total   Spent    Left  Speed\n",
            "100   137  100   137    0     0    840      0 --:--:-- --:--:-- --:--:--   840\n",
            "/bin/bash: -c: line 0: unexpected EOF while looking for matching `\"'\n",
            "/bin/bash: -c: line 1: syntax error: unexpected end of file\n"
          ]
        }
      ]
    },
    {
      "cell_type": "code",
      "execution_count": 3,
      "metadata": {
        "colab": {
          "base_uri": "https://localhost:8080/"
        },
        "id": "w-I19BzVXNEA",
        "outputId": "4a1a29af-9783-4e09-9687-c475808124e8"
      },
      "outputs": [
        {
          "output_type": "stream",
          "name": "stdout",
          "text": [
            "Drive already mounted at /content/drive; to attempt to forcibly remount, call drive.mount(\"/content/drive\", force_remount=True).\n"
          ]
        }
      ],
      "source": [
        "from google.colab import drive\n",
        "drive.mount('/content/drive')"
      ]
    },
    {
      "cell_type": "code",
      "source": [
        "from pymagnitude import *\n",
        "file_path = \"/content/drive/MyDrive/GoogleNews-vectors-negative300.magnitude\"\n",
        "vectors = Magnitude(file_path)"
      ],
      "metadata": {
        "id": "MG5XhSP5up29"
      },
      "execution_count": 7,
      "outputs": []
    },
    {
      "cell_type": "code",
      "source": [
        "vectors.distance(\"cat\",\"dog\")"
      ],
      "metadata": {
        "colab": {
          "base_uri": "https://localhost:8080/"
        },
        "id": "CGC7f35Jx_cz",
        "outputId": "cb335cda-ac09-4257-d852-6c198db62b31"
      },
      "execution_count": 8,
      "outputs": [
        {
          "output_type": "execute_result",
          "data": {
            "text/plain": [
              "0.69145405"
            ]
          },
          "metadata": {},
          "execution_count": 8
        }
      ]
    },
    {
      "cell_type": "markdown",
      "source": [
        "### 1. What is the dimensionality of these word embeddings? Provide an integer answer."
      ],
      "metadata": {
        "id": "gpM5YnrLdVdb"
      }
    },
    {
      "cell_type": "code",
      "source": [
        "vectors.dim"
      ],
      "metadata": {
        "colab": {
          "base_uri": "https://localhost:8080/"
        },
        "id": "MLZsnS9Adjdh",
        "outputId": "9c3ecbbf-75dd-456a-da3d-ccaa71f87c7d"
      },
      "execution_count": 9,
      "outputs": [
        {
          "output_type": "execute_result",
          "data": {
            "text/plain": [
              "300"
            ]
          },
          "metadata": {},
          "execution_count": 9
        }
      ]
    },
    {
      "cell_type": "markdown",
      "source": [
        "### 2. What are the top-5 most similar words to picnic (not including picnic itself)?"
      ],
      "metadata": {
        "id": "_JfWkHRcehv7"
      }
    },
    {
      "cell_type": "code",
      "source": [
        "vectors.most_similar(\"picnic\", topn = 5)"
      ],
      "metadata": {
        "colab": {
          "base_uri": "https://localhost:8080/"
        },
        "id": "-AriZRg0exRT",
        "outputId": "a4ec1554-c7ba-4659-e7f6-939a513d5821"
      },
      "execution_count": 10,
      "outputs": [
        {
          "output_type": "execute_result",
          "data": {
            "text/plain": [
              "[('picnics', 0.7400875),\n",
              " ('picnic_lunch', 0.721374),\n",
              " ('Picnic', 0.700534),\n",
              " ('potluck_picnic', 0.6683274),\n",
              " ('picnic_supper', 0.65189123)]"
            ]
          },
          "metadata": {},
          "execution_count": 10
        }
      ]
    },
    {
      "cell_type": "code",
      "source": [
        "vectors.similarity(\"Picnic\", \"picnic\")"
      ],
      "metadata": {
        "colab": {
          "base_uri": "https://localhost:8080/"
        },
        "id": "QJvTSAEXex9k",
        "outputId": "402878cb-d125-4b9f-9318-7467ecb11375"
      },
      "execution_count": 11,
      "outputs": [
        {
          "output_type": "execute_result",
          "data": {
            "text/plain": [
              "0.70053405"
            ]
          },
          "metadata": {},
          "execution_count": 11
        }
      ]
    },
    {
      "cell_type": "code",
      "source": [
        "vectors.most_similar(vectors.query(\"picnic\"), topn = 6)"
      ],
      "metadata": {
        "colab": {
          "base_uri": "https://localhost:8080/"
        },
        "id": "VM_JEEFEqwMN",
        "outputId": "e3478d66-36ad-4e23-ea5f-0f97542c7620"
      },
      "execution_count": 12,
      "outputs": [
        {
          "output_type": "execute_result",
          "data": {
            "text/plain": [
              "[('picnic', 0.9999998),\n",
              " ('picnics', 0.7400875),\n",
              " ('picnic_lunch', 0.721374),\n",
              " ('Picnic', 0.700534),\n",
              " ('potluck_picnic', 0.6683274),\n",
              " ('picnic_supper', 0.65189123)]"
            ]
          },
          "metadata": {},
          "execution_count": 12
        }
      ]
    },
    {
      "cell_type": "markdown",
      "source": [
        "The top-5 most similar words to \"picnic are picnics, picnic_lunch,Picnic,potluck_picnic,picnic_supper."
      ],
      "metadata": {
        "id": "ZCYIvf0kvd9P"
      }
    },
    {
      "cell_type": "markdown",
      "source": [
        "### 3. According to the word embeddings, which of these words is not like the others? ['tissue', 'papyrus', 'manila', 'newsprint', 'parchment', 'gazette']"
      ],
      "metadata": {
        "id": "ywGQvHHzeiFX"
      }
    },
    {
      "cell_type": "code",
      "source": [
        "vectors.doesnt_match(['tissue', 'papyrus','manila', 'newsprint', 'parchment', 'gazette']) "
      ],
      "metadata": {
        "colab": {
          "base_uri": "https://localhost:8080/",
          "height": 36
        },
        "id": "Hp6U4ofoeq6p",
        "outputId": "295867a6-e620-4c66-fa28-55b471a101ba"
      },
      "execution_count": 13,
      "outputs": [
        {
          "output_type": "execute_result",
          "data": {
            "text/plain": [
              "'tissue'"
            ],
            "application/vnd.google.colaboratory.intrinsic+json": {
              "type": "string"
            }
          },
          "metadata": {},
          "execution_count": 13
        }
      ]
    },
    {
      "cell_type": "markdown",
      "source": [
        "### 4. Solve the following analogy: leg is to jump as X is to throw."
      ],
      "metadata": {
        "id": "wALOPNrAeiYJ"
      }
    },
    {
      "cell_type": "code",
      "source": [
        "vectors.most_similar(positive = [\"leg\", \"throw\"], negative = [\"jump\"]) "
      ],
      "metadata": {
        "colab": {
          "base_uri": "https://localhost:8080/"
        },
        "id": "g_RtTBbTeyg5",
        "outputId": "c2da2f54-0243-44a9-fa66-bb8fdb85fc1a"
      },
      "execution_count": 14,
      "outputs": [
        {
          "output_type": "execute_result",
          "data": {
            "text/plain": [
              "[('forearm', 0.48294652),\n",
              " ('shin', 0.47376165),\n",
              " ('elbow', 0.4679689),\n",
              " ('metacarpal_bone', 0.46781474),\n",
              " ('metacarpal_bones', 0.46605822),\n",
              " ('ankle', 0.46434426),\n",
              " ('shoulder', 0.46183354),\n",
              " ('thigh', 0.45393682),\n",
              " ('knee', 0.4455707),\n",
              " ('ulna_bone', 0.4423491)]"
            ]
          },
          "metadata": {},
          "execution_count": 14
        }
      ]
    },
    {
      "cell_type": "code",
      "source": [
        "from sklearn.decomposition import PCA\n",
        "import matplotlib.pyplot as plt\n",
        "import pandas as pd\n",
        "import seaborn as sns"
      ],
      "metadata": {
        "id": "ew7Ig9Keya8c"
      },
      "execution_count": 51,
      "outputs": []
    },
    {
      "cell_type": "code",
      "source": [
        "def word_visual(word_list):\n",
        "  i = 1\n",
        "  pca = PCA(n_components=2)\n",
        "  for word in word_list:\n",
        "    vq = vectors.query(word)\n",
        "    if i <= 1:\n",
        "      vec = vectors.query(word)\n",
        "      i += 1\n",
        "    else:\n",
        "      vec = np.vstack((vec, vq))\n",
        "  \n",
        "  fit = pca.fit_transform(vec)\n",
        "  x = fit[:,0]\n",
        "  y = fit[:,1]\n",
        "  axs = plt.subplot(1,1,1)\n",
        "  for j in range(len(word_list)):\n",
        "    axs.text(x[j],y[j],word_list[j])\n",
        "  axs.scatter(x,y)"
      ],
      "metadata": {
        "id": "PRNkjprDybCC"
      },
      "execution_count": 66,
      "outputs": []
    },
    {
      "cell_type": "code",
      "source": [
        "word_list = ['leg','throw','jump','forearm']\n",
        "word_visual(word_list)"
      ],
      "metadata": {
        "colab": {
          "base_uri": "https://localhost:8080/",
          "height": 267
        },
        "id": "_xftzYsGybJa",
        "outputId": "2e6fe3d2-989e-443a-88fb-62f26e8eb5c0"
      },
      "execution_count": 68,
      "outputs": [
        {
          "output_type": "display_data",
          "data": {
            "text/plain": [
              "<Figure size 432x288 with 1 Axes>"
            ],
            "image/png": "[encoded data removed]"
          },
          "metadata": {
            "needs_background": "light"
          }
        }
      ]
    },
    {
      "cell_type": "markdown",
      "source": [
        "leg is to jump as forearm is to throw"
      ],
      "metadata": {
        "id": "0aV7_iSTWjmn"
      }
    },
    {
      "cell_type": "code",
      "source": [
        "#word_list = ['tissue', 'papyrus','manila', 'newsprint', 'parchment', 'gazette']"
      ],
      "metadata": {
        "id": "TycI6GydW2IC"
      },
      "execution_count": 69,
      "outputs": []
    },
    {
      "cell_type": "code",
      "source": [
        "#word_visual(word_list)"
      ],
      "metadata": {
        "colab": {
          "base_uri": "https://localhost:8080/",
          "height": 265
        },
        "id": "m5ioqBcsW2Qc",
        "outputId": "526cf5a6-28ce-45e5-ed59-475c69c4acf4"
      },
      "execution_count": 70,
      "outputs": [
        {
          "output_type": "display_data",
          "data": {
            "text/plain": [
              "<Figure size 432x288 with 1 Axes>"
            ],
            "image/png": "[encoded data removed]"
          },
          "metadata": {
            "needs_background": "light"
          }
        }
      ]
    },
    {
      "cell_type": "code",
      "source": [
        "#word_list = ['leg','throw','jump','forearm','shin','elbow']\n",
        "#word_visual(word_list)"
      ],
      "metadata": {
        "colab": {
          "base_uri": "https://localhost:8080/",
          "height": 265
        },
        "id": "mH2Q7jL1XP9o",
        "outputId": "e6e83d34-42f3-46bf-e69c-1535321dbddd"
      },
      "execution_count": 71,
      "outputs": [
        {
          "output_type": "display_data",
          "data": {
            "text/plain": [
              "<Figure size 432x288 with 1 Axes>"
            ],
            "image/png": "[encoded data removed]"
          },
          "metadata": {
            "needs_background": "light"
          }
        }
      ]
    },
    {
      "cell_type": "code",
      "source": [
        ""
      ],
      "metadata": {
        "id": "oc0XoNw0XQH_"
      },
      "execution_count": null,
      "outputs": []
    }
  ]
}