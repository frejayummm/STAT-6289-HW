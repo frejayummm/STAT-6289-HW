{
  "nbformat": 4,
  "nbformat_minor": 0,
  "metadata": {
    "accelerator": "GPU",
    "colab": {
      "name": "STAT6289_Yu_Min.ipynb",
      "provenance": [],
      "collapsed_sections": []
    },
    "kernelspec": {
      "display_name": "Python 3",
      "name": "python3"
    }
  },
  "cells": [
    {
      "cell_type": "code",
      "metadata": {
        "id": "YGp2VMvfX_aj"
      },
      "source": [
        "from __future__ import print_function\n",
        "import keras\n",
        "from keras.datasets import cifar10\n",
        "from keras.preprocessing.image import ImageDataGenerator\n",
        "from keras.models import Sequential\n",
        "from keras.layers import Dense, Dropout, Activation, Flatten\n",
        "from keras.layers import Conv2D, MaxPooling2D\n",
        "from keras.utils import np_utils\n",
        "import os"
      ],
      "execution_count": 57,
      "outputs": []
    },
    {
      "cell_type": "code",
      "metadata": {
        "id": "7FqMZ0gNYcqY"
      },
      "source": [
        "batch_size = 32\n",
        "num_classes = 10\n",
        "epochs = 10\n",
        "data_augmentation = True\n",
        "num_predictions = 20\n",
        "save_dir = os.path.join(os.getcwd(), 'saved_models')\n",
        "model_name = 'keras_cifar10_trained_model.h5'"
      ],
      "execution_count": 58,
      "outputs": []
    },
    {
      "cell_type": "code",
      "metadata": {
        "id": "Q56S3wJtYejx",
        "outputId": "7c19a5a7-5523-41fc-b8bb-aa15a7e70eab",
        "colab": {
          "base_uri": "https://localhost:8080/"
        }
      },
      "source": [
        "# The data, split between train and test sets:\n",
        "(x_train, y_train), (x_test, y_test) = cifar10.load_data()\n",
        "print('x_train shape:', x_train.shape)\n",
        "print(x_train.shape[0], 'train samples')\n",
        "print(x_test.shape[0], 'test samples')"
      ],
      "execution_count": 59,
      "outputs": [
        {
          "output_type": "stream",
          "name": "stdout",
          "text": [
            "x_train shape: (50000, 32, 32, 3)\n",
            "50000 train samples\n",
            "10000 test samples\n"
          ]
        }
      ]
    },
    {
      "cell_type": "code",
      "metadata": {
        "id": "XVQrNASAYgne"
      },
      "source": [
        "# Convert class vectors to binary class matrices.\n",
        "y_train = keras.utils.np_utils.to_categorical(y_train, num_classes)\n",
        "y_test =keras.utils.np_utils.to_categorical(y_test, num_classes)"
      ],
      "execution_count": 60,
      "outputs": []
    },
    {
      "cell_type": "code",
      "source": [
        "from tensorflow import keras\n",
        "from keras import optimizers\n",
        "optimizer=keras.optimizers.RMSprop(learning_rate=0.01)"
      ],
      "metadata": {
        "id": "BL5vkB0o_FLa"
      },
      "execution_count": 61,
      "outputs": []
    },
    {
      "cell_type": "code",
      "metadata": {
        "id": "o3XElpoCb0E7",
        "outputId": "bf21af1e-2c68-4f76-f8aa-58ff973b9cb5",
        "colab": {
          "base_uri": "https://localhost:8080/"
        }
      },
      "source": [
        "#a\n",
        "model = Sequential()\n",
        "model.add(Conv2D(32, (3, 3), padding='same',\n",
        "                 input_shape=x_train.shape[1:]))\n",
        "model.add(Activation('relu'))\n",
        "model.add(Conv2D(32, (3, 3)))\n",
        "model.add(Activation('relu'))\n",
        "model.add(MaxPooling2D(pool_size=(2, 2)))\n",
        "model.add(Dropout(0.25))\n",
        "\n",
        "model.add(Conv2D(64, (3, 3), padding='same'))\n",
        "model.add(Activation('relu'))\n",
        "model.add(Conv2D(64, (3, 3)))\n",
        "model.add(Activation('relu'))\n",
        "model.add(MaxPooling2D(pool_size=(2, 2)))\n",
        "model.add(Dropout(0.25))\n",
        "\n",
        "model.add(Flatten())\n",
        "model.add(Dense(512))\n",
        "model.add(Activation('relu'))\n",
        "model.add(Dropout(0.5))\n",
        "model.add(Dense(num_classes))\n",
        "model.add(Activation('softmax'))\n",
        "\n",
        "# initiate RMSprop optimizer\n",
        "opt = keras.optimizers.RMSprop(learning_rate=0.0001, decay=1e-6)\n",
        "\n",
        "# Let's train the model using RMSprop\n",
        "model.compile(loss='categorical_crossentropy',\n",
        "              optimizer=opt,\n",
        "              metrics=['accuracy'])\n",
        "\n",
        "x_train = x_train.astype('float32')\n",
        "x_test = x_test.astype('float32')\n",
        "x_train /= 255\n",
        "x_test /= 255\n",
        "\n",
        "if not data_augmentation:\n",
        "    print('Not using data augmentation.')\n",
        "    model.fit(x_train, y_train,\n",
        "              batch_size=batch_size,\n",
        "              epochs=epochs,\n",
        "              validation_data=(x_test, y_test),\n",
        "              shuffle=True)\n",
        "else:\n",
        "    print('Using real-time data augmentation.')\n",
        "    # This will do preprocessing and realtime data augmentation:\n",
        "    datagen = ImageDataGenerator(\n",
        "        featurewise_center=False,  # set input mean to 0 over the dataset\n",
        "        samplewise_center=False,  # set each sample mean to 0\n",
        "        featurewise_std_normalization=False,  # divide inputs by std of the dataset\n",
        "        samplewise_std_normalization=False,  # divide each input by its std\n",
        "        zca_whitening=False,  # apply ZCA whitening\n",
        "        zca_epsilon=1e-06,  # epsilon for ZCA whitening\n",
        "        rotation_range=0,  # randomly rotate images in the range (degrees, 0 to 180)\n",
        "        # randomly shift images horizontally (fraction of total width)\n",
        "        width_shift_range=0.1,\n",
        "        # randomly shift images vertically (fraction of total height)\n",
        "        height_shift_range=0.1,\n",
        "        shear_range=0.,  # set range for random shear\n",
        "        zoom_range=0.,  # set range for random zoom\n",
        "        channel_shift_range=0.,  # set range for random channel shifts\n",
        "        # set mode for filling points outside the input boundaries\n",
        "        fill_mode='nearest',\n",
        "        cval=0.,  # value used for fill_mode = \"constant\"\n",
        "        horizontal_flip=True,  # randomly flip images\n",
        "        vertical_flip=False,  # randomly flip images\n",
        "        # set rescaling factor (applied before any other transformation)\n",
        "        rescale=None,\n",
        "        # set function that will be applied on each input\n",
        "        preprocessing_function=None,\n",
        "        # image data format, either \"channels_first\" or \"channels_last\"\n",
        "        data_format=None,\n",
        "        # fraction of images reserved for validation (strictly between 0 and 1)\n",
        "        validation_split=0.0)\n",
        "\n",
        "    # Compute quantities required for feature-wise normalization\n",
        "    # (std, mean, and principal components if ZCA whitening is applied).\n",
        "    datagen.fit(x_train)\n",
        "\n",
        "    # Fit the model on the batches generated by datagen.flow().\n",
        "    CNN = model.fit_generator(datagen.flow(x_train, y_train,\n",
        "                                     batch_size=batch_size),\n",
        "                        epochs=epochs,\n",
        "                        validation_data=(x_test, y_test),\n",
        "                        workers=4)"
      ],
      "execution_count": 12,
      "outputs": [
        {
          "metadata": {
            "tags": null
          },
          "name": "stdout",
          "output_type": "stream",
          "text": [
            "Using real-time data augmentation.\n",
            "Epoch 1/10\n"
          ]
        },
        {
          "metadata": {
            "tags": null
          },
          "name": "stderr",
          "output_type": "stream",
          "text": [
            "/usr/local/lib/python3.7/dist-packages/ipykernel_launcher.py:85: UserWarning: `Model.fit_generator` is deprecated and will be removed in a future version. Please use `Model.fit`, which supports generators.\n"
          ]
        },
        {
          "output_type": "stream",
          "name": "stdout",
          "text": [
            "1563/1563 [==============================] - 81s 45ms/step - loss: 1.8816 - accuracy: 0.3057 - val_loss: 1.5807 - val_accuracy: 0.4319\n",
            "Epoch 2/10\n",
            "1563/1563 [==============================] - 68s 43ms/step - loss: 1.5840 - accuracy: 0.4211 - val_loss: 1.4147 - val_accuracy: 0.4895\n",
            "Epoch 3/10\n",
            "1563/1563 [==============================] - 71s 45ms/step - loss: 1.4624 - accuracy: 0.4687 - val_loss: 1.3054 - val_accuracy: 0.5274\n",
            "Epoch 4/10\n",
            "1563/1563 [==============================] - 64s 41ms/step - loss: 1.3801 - accuracy: 0.5052 - val_loss: 1.2210 - val_accuracy: 0.5683\n",
            "Epoch 5/10\n",
            "1563/1563 [==============================] - 62s 40ms/step - loss: 1.3137 - accuracy: 0.5327 - val_loss: 1.1849 - val_accuracy: 0.5882\n",
            "Epoch 6/10\n",
            "1563/1563 [==============================] - 63s 40ms/step - loss: 1.2573 - accuracy: 0.5544 - val_loss: 1.0760 - val_accuracy: 0.6208\n",
            "Epoch 7/10\n",
            "1563/1563 [==============================] - 63s 40ms/step - loss: 1.2033 - accuracy: 0.5703 - val_loss: 1.1154 - val_accuracy: 0.6079\n",
            "Epoch 8/10\n",
            "1563/1563 [==============================] - 62s 40ms/step - loss: 1.1630 - accuracy: 0.5873 - val_loss: 1.0307 - val_accuracy: 0.6369\n",
            "Epoch 9/10\n",
            "1563/1563 [==============================] - 63s 40ms/step - loss: 1.1266 - accuracy: 0.6012 - val_loss: 0.9582 - val_accuracy: 0.6626\n",
            "Epoch 10/10\n",
            "1563/1563 [==============================] - 62s 40ms/step - loss: 1.0922 - accuracy: 0.6148 - val_loss: 0.9971 - val_accuracy: 0.6463\n"
          ]
        }
      ]
    },
    {
      "cell_type": "code",
      "metadata": {
        "id": "p3_gFN8icFpk",
        "outputId": "aba8628f-a2ce-47df-f021-92ed6c438163",
        "colab": {
          "base_uri": "https://localhost:8080/"
        }
      },
      "source": [
        "#0 layer\n",
        "model0 = Sequential()\n",
        "model0.add(Flatten())\n",
        "model0.add(Dense(num_classes))\n",
        "model0.add(Dropout(0.5))\n",
        "model0.add(Activation('softmax'))\n",
        "model0.compile(loss='categorical_crossentropy',\n",
        "              optimizer=opt,\n",
        "              metrics=['accuracy'])\n",
        " # Fit the model on the batches generated by datagen.flow().\n",
        " \n",
        "m0 = model0.fit_generator(datagen.flow(x_train, y_train,\n",
        "                             batch_size=batch_size),\n",
        "                epochs=epochs,\n",
        "                validation_data=(x_test, y_test),\n",
        "                workers=4)"
      ],
      "execution_count": 14,
      "outputs": [
        {
          "output_type": "stream",
          "name": "stdout",
          "text": [
            "Epoch 1/10\n"
          ]
        },
        {
          "output_type": "stream",
          "name": "stderr",
          "text": [
            "/usr/local/lib/python3.7/dist-packages/ipykernel_launcher.py:16: UserWarning: `Model.fit_generator` is deprecated and will be removed in a future version. Please use `Model.fit`, which supports generators.\n",
            "  app.launch_new_instance()\n"
          ]
        },
        {
          "output_type": "stream",
          "name": "stdout",
          "text": [
            "1563/1563 [==============================] - 54s 34ms/step - loss: 2.1755 - accuracy: 0.2076 - val_loss: 1.9963 - val_accuracy: 0.3064\n",
            "Epoch 2/10\n",
            "1563/1563 [==============================] - 55s 35ms/step - loss: 2.1261 - accuracy: 0.2344 - val_loss: 1.9545 - val_accuracy: 0.3391\n",
            "Epoch 3/10\n",
            "1563/1563 [==============================] - 54s 35ms/step - loss: 2.1125 - accuracy: 0.2415 - val_loss: 1.9347 - val_accuracy: 0.3431\n",
            "Epoch 4/10\n",
            "1563/1563 [==============================] - 54s 34ms/step - loss: 2.1009 - accuracy: 0.2460 - val_loss: 1.9199 - val_accuracy: 0.3608\n",
            "Epoch 5/10\n",
            "1563/1563 [==============================] - 55s 35ms/step - loss: 2.0985 - accuracy: 0.2473 - val_loss: 1.9153 - val_accuracy: 0.3581\n",
            "Epoch 6/10\n",
            "1563/1563 [==============================] - 55s 35ms/step - loss: 2.0924 - accuracy: 0.2496 - val_loss: 1.9149 - val_accuracy: 0.3457\n",
            "Epoch 7/10\n",
            "1563/1563 [==============================] - 54s 35ms/step - loss: 2.0894 - accuracy: 0.2530 - val_loss: 1.9071 - val_accuracy: 0.3566\n",
            "Epoch 8/10\n",
            "1563/1563 [==============================] - 54s 35ms/step - loss: 2.0879 - accuracy: 0.2542 - val_loss: 1.9011 - val_accuracy: 0.3691\n",
            "Epoch 9/10\n",
            "1563/1563 [==============================] - 54s 35ms/step - loss: 2.0854 - accuracy: 0.2546 - val_loss: 1.9137 - val_accuracy: 0.3487\n",
            "Epoch 10/10\n",
            "1563/1563 [==============================] - 54s 35ms/step - loss: 2.0813 - accuracy: 0.2581 - val_loss: 1.8966 - val_accuracy: 0.3631\n"
          ]
        }
      ]
    },
    {
      "cell_type": "code",
      "metadata": {
        "id": "QoxWvhVqaI0l",
        "outputId": "4ca9ade9-7b60-4450-b1a4-6834c2eb2089",
        "colab": {
          "base_uri": "https://localhost:8080/"
        }
      },
      "source": [
        "#1 layer\n",
        "epochs = 10\n",
        "\n",
        "model1 = Sequential()\n",
        "\n",
        "\n",
        "model1.add(Flatten())\n",
        "model1.add(Dense(512))\n",
        "model1.add(Activation('relu'))\n",
        "model1.add(Dropout(0.5))\n",
        "model1.add(Dense(num_classes))\n",
        "model1.add(Activation('softmax'))\n",
        "\n",
        "model1.compile(loss='categorical_crossentropy',\n",
        "              optimizer=opt,\n",
        "              metrics=['accuracy'])\n",
        "\n",
        "datagen = ImageDataGenerator(\n",
        "        featurewise_center=False,  # set input mean to 0 over the dataset\n",
        "        samplewise_center=False,  # set each sample mean to 0\n",
        "        featurewise_std_normalization=False,  # divide inputs by std of the dataset\n",
        "        samplewise_std_normalization=False,  # divide each input by its std\n",
        "        zca_whitening=False,  # apply ZCA whitening\n",
        "        zca_epsilon=1e-06,  # epsilon for ZCA whitening\n",
        "        rotation_range=0,  # randomly rotate images in the range (degrees, 0 to 180)\n",
        "        # randomly shift images horizontally (fraction of total width)\n",
        "        width_shift_range=0.1,\n",
        "        # randomly shift images vertically (fraction of total height)\n",
        "        height_shift_range=0.1,\n",
        "        shear_range=0.,  # set range for random shear\n",
        "        zoom_range=0.,  # set range for random zoom\n",
        "        channel_shift_range=0.,  # set range for random channel shifts\n",
        "        # set mode for filling points outside the input boundaries\n",
        "        fill_mode='nearest',\n",
        "        cval=0.,  # value used for fill_mode = \"constant\"\n",
        "        horizontal_flip=True,  # randomly flip images\n",
        "        vertical_flip=False,  # randomly flip images\n",
        "        # set rescaling factor (applied before any other transformation)\n",
        "        rescale=None,\n",
        "        # set function that will be applied on each input\n",
        "        preprocessing_function=None,\n",
        "        # image data format, either \"channels_first\" or \"channels_last\"\n",
        "        data_format=None,\n",
        "        # fraction of images reserved for validation (strictly between 0 and 1)\n",
        "        validation_split=0.0)\n",
        "\n",
        "datagen.fit(x_train)\n",
        "\n",
        "    # Fit the model on the batches generated by datagen.flow().\n",
        "m1 = model1.fit_generator(datagen.flow(x_train, y_train,\n",
        "                                     batch_size=batch_size),\n",
        "                        epochs=epochs,\n",
        "                        validation_data=(x_test, y_test),\n",
        "                        workers=4)\n",
        "    "
      ],
      "execution_count": 17,
      "outputs": [
        {
          "output_type": "stream",
          "name": "stdout",
          "text": [
            "Epoch 1/10\n"
          ]
        },
        {
          "output_type": "stream",
          "name": "stderr",
          "text": [
            "/usr/local/lib/python3.7/dist-packages/ipykernel_launcher.py:54: UserWarning: `Model.fit_generator` is deprecated and will be removed in a future version. Please use `Model.fit`, which supports generators.\n"
          ]
        },
        {
          "output_type": "stream",
          "name": "stdout",
          "text": [
            "1563/1563 [==============================] - 58s 37ms/step - loss: 2.0139 - accuracy: 0.2713 - val_loss: 1.8028 - val_accuracy: 0.3698\n",
            "Epoch 2/10\n",
            "1563/1563 [==============================] - 51s 32ms/step - loss: 1.8791 - accuracy: 0.3224 - val_loss: 1.7269 - val_accuracy: 0.4055\n",
            "Epoch 3/10\n",
            "1563/1563 [==============================] - 51s 33ms/step - loss: 1.8364 - accuracy: 0.3419 - val_loss: 1.6925 - val_accuracy: 0.4014\n",
            "Epoch 4/10\n",
            "1563/1563 [==============================] - 51s 32ms/step - loss: 1.8015 - accuracy: 0.3564 - val_loss: 1.6419 - val_accuracy: 0.4254\n",
            "Epoch 5/10\n",
            "1563/1563 [==============================] - 50s 32ms/step - loss: 1.7788 - accuracy: 0.3663 - val_loss: 1.6276 - val_accuracy: 0.4340\n",
            "Epoch 6/10\n",
            "1563/1563 [==============================] - 51s 32ms/step - loss: 1.7589 - accuracy: 0.3692 - val_loss: 1.5966 - val_accuracy: 0.4421\n",
            "Epoch 7/10\n",
            "1563/1563 [==============================] - 50s 32ms/step - loss: 1.7460 - accuracy: 0.3800 - val_loss: 1.5811 - val_accuracy: 0.4473\n",
            "Epoch 8/10\n",
            "1563/1563 [==============================] - 51s 33ms/step - loss: 1.7321 - accuracy: 0.3832 - val_loss: 1.5700 - val_accuracy: 0.4522\n",
            "Epoch 9/10\n",
            "1563/1563 [==============================] - 51s 33ms/step - loss: 1.7243 - accuracy: 0.3884 - val_loss: 1.5587 - val_accuracy: 0.4566\n",
            "Epoch 10/10\n",
            "1563/1563 [==============================] - 52s 33ms/step - loss: 1.7189 - accuracy: 0.3876 - val_loss: 1.5402 - val_accuracy: 0.4630\n"
          ]
        }
      ]
    },
    {
      "cell_type": "code",
      "metadata": {
        "id": "lD-qWg9HYiNo",
        "outputId": "5449ef97-4e15-4b44-a786-59fda8331dd4",
        "colab": {
          "base_uri": "https://localhost:8080/"
        }
      },
      "source": [
        "#2 layers\n",
        "epochs = 10\n",
        "\n",
        "model2 = Sequential()\n",
        "\n",
        "\n",
        "model2.add(Flatten())\n",
        "model2.add(Dense(512))\n",
        "model2.add(Activation('relu'))\n",
        "model2.add(Dropout(0.5))\n",
        "model2.add(Dense(512))\n",
        "model2.add(Activation('relu'))\n",
        "model2.add(Dropout(0.5))\n",
        "model2.add(Dense(num_classes))\n",
        "model2.add(Activation('softmax'))\n",
        "\n",
        "model2.compile(loss='categorical_crossentropy',\n",
        "              optimizer=opt,\n",
        "              metrics=['accuracy'])\n",
        "m2 = model2.fit_generator(datagen.flow(x_train, y_train,\n",
        "                                     batch_size=batch_size),\n",
        "                        epochs=epochs,\n",
        "                        validation_data=(x_test, y_test),\n",
        "                        workers=4)"
      ],
      "execution_count": 18,
      "outputs": [
        {
          "output_type": "stream",
          "name": "stdout",
          "text": [
            "Epoch 1/10\n"
          ]
        },
        {
          "output_type": "stream",
          "name": "stderr",
          "text": [
            "/usr/local/lib/python3.7/dist-packages/ipykernel_launcher.py:24: UserWarning: `Model.fit_generator` is deprecated and will be removed in a future version. Please use `Model.fit`, which supports generators.\n"
          ]
        },
        {
          "output_type": "stream",
          "name": "stdout",
          "text": [
            "1563/1563 [==============================] - 52s 33ms/step - loss: 2.0996 - accuracy: 0.2262 - val_loss: 1.8654 - val_accuracy: 0.3415\n",
            "Epoch 2/10\n",
            "1563/1563 [==============================] - 51s 33ms/step - loss: 1.9510 - accuracy: 0.2880 - val_loss: 1.7823 - val_accuracy: 0.3639\n",
            "Epoch 3/10\n",
            "1563/1563 [==============================] - 52s 33ms/step - loss: 1.9015 - accuracy: 0.3128 - val_loss: 1.7302 - val_accuracy: 0.3942\n",
            "Epoch 4/10\n",
            "1563/1563 [==============================] - 52s 33ms/step - loss: 1.8703 - accuracy: 0.3255 - val_loss: 1.7158 - val_accuracy: 0.3958\n",
            "Epoch 5/10\n",
            "1563/1563 [==============================] - 52s 33ms/step - loss: 1.8534 - accuracy: 0.3330 - val_loss: 1.6736 - val_accuracy: 0.4157\n",
            "Epoch 6/10\n",
            "1563/1563 [==============================] - 51s 33ms/step - loss: 1.8345 - accuracy: 0.3418 - val_loss: 1.6446 - val_accuracy: 0.4224\n",
            "Epoch 7/10\n",
            "1563/1563 [==============================] - 52s 33ms/step - loss: 1.8200 - accuracy: 0.3477 - val_loss: 1.6339 - val_accuracy: 0.4355\n",
            "Epoch 8/10\n",
            "1563/1563 [==============================] - 51s 33ms/step - loss: 1.8117 - accuracy: 0.3498 - val_loss: 1.6183 - val_accuracy: 0.4373\n",
            "Epoch 9/10\n",
            "1563/1563 [==============================] - 51s 33ms/step - loss: 1.7982 - accuracy: 0.3580 - val_loss: 1.5876 - val_accuracy: 0.4535\n",
            "Epoch 10/10\n",
            "1563/1563 [==============================] - 51s 33ms/step - loss: 1.7920 - accuracy: 0.3593 - val_loss: 1.5945 - val_accuracy: 0.4522\n"
          ]
        }
      ]
    },
    {
      "cell_type": "code",
      "metadata": {
        "id": "0fTFJX_fggDc",
        "outputId": "c53248a2-8d8f-4445-9bfe-ef977ac234aa",
        "colab": {
          "base_uri": "https://localhost:8080/"
        }
      },
      "source": [
        "#3 layers\n",
        "epochs = 10\n",
        "\n",
        "model3 = Sequential()\n",
        "\n",
        "model3.add(Flatten())\n",
        "model2.add(Dense(512))\n",
        "model2.add(Activation('relu'))\n",
        "model2.add(Dropout(0.5))\n",
        "model3.add(Dense(512))\n",
        "model3.add(Activation('relu'))\n",
        "model3.add(Dropout(0.5))\n",
        "model3.add(Dense(512))\n",
        "model3.add(Activation('relu'))\n",
        "model3.add(Dropout(0.5))\n",
        "model3.add(Dense(num_classes))\n",
        "model3.add(Activation('softmax'))\n",
        "\n",
        "model3.compile(loss='categorical_crossentropy',\n",
        "              optimizer=opt,\n",
        "              metrics=['accuracy'])\n",
        "m3 = model3.fit_generator(datagen.flow(x_train, y_train,\n",
        "                                     batch_size=batch_size),\n",
        "                        epochs=epochs,\n",
        "                        validation_data=(x_test, y_test),\n",
        "                        workers=4)"
      ],
      "execution_count": 19,
      "outputs": [
        {
          "output_type": "stream",
          "name": "stdout",
          "text": [
            "Epoch 1/10\n"
          ]
        },
        {
          "output_type": "stream",
          "name": "stderr",
          "text": [
            "/usr/local/lib/python3.7/dist-packages/ipykernel_launcher.py:26: UserWarning: `Model.fit_generator` is deprecated and will be removed in a future version. Please use `Model.fit`, which supports generators.\n"
          ]
        },
        {
          "output_type": "stream",
          "name": "stdout",
          "text": [
            "1563/1563 [==============================] - 56s 35ms/step - loss: 2.0882 - accuracy: 0.2299 - val_loss: 1.8844 - val_accuracy: 0.3257\n",
            "Epoch 2/10\n",
            "1563/1563 [==============================] - 52s 33ms/step - loss: 1.9458 - accuracy: 0.2912 - val_loss: 1.7855 - val_accuracy: 0.3707\n",
            "Epoch 3/10\n",
            "1563/1563 [==============================] - 52s 33ms/step - loss: 1.8988 - accuracy: 0.3129 - val_loss: 1.7349 - val_accuracy: 0.3869\n",
            "Epoch 4/10\n",
            "1563/1563 [==============================] - 51s 33ms/step - loss: 1.8746 - accuracy: 0.3292 - val_loss: 1.7027 - val_accuracy: 0.4080\n",
            "Epoch 5/10\n",
            "1563/1563 [==============================] - 51s 33ms/step - loss: 1.8534 - accuracy: 0.3370 - val_loss: 1.6784 - val_accuracy: 0.4191\n",
            "Epoch 6/10\n",
            "1563/1563 [==============================] - 52s 33ms/step - loss: 1.8401 - accuracy: 0.3404 - val_loss: 1.6515 - val_accuracy: 0.4229\n",
            "Epoch 7/10\n",
            "1563/1563 [==============================] - 52s 33ms/step - loss: 1.8272 - accuracy: 0.3463 - val_loss: 1.6516 - val_accuracy: 0.4163\n",
            "Epoch 8/10\n",
            "1563/1563 [==============================] - 52s 33ms/step - loss: 1.8157 - accuracy: 0.3523 - val_loss: 1.6384 - val_accuracy: 0.4305\n",
            "Epoch 9/10\n",
            "1563/1563 [==============================] - 52s 33ms/step - loss: 1.8095 - accuracy: 0.3540 - val_loss: 1.6172 - val_accuracy: 0.4365\n",
            "Epoch 10/10\n",
            "1563/1563 [==============================] - 52s 33ms/step - loss: 1.8028 - accuracy: 0.3569 - val_loss: 1.6167 - val_accuracy: 0.4402\n"
          ]
        }
      ]
    },
    {
      "cell_type": "code",
      "metadata": {
        "id": "NyAzXypImjDf",
        "outputId": "afc4f23d-9ae1-45c5-a6fe-82af41d55a21",
        "colab": {
          "base_uri": "https://localhost:8080/"
        }
      },
      "source": [
        "#4 layers\n",
        "epochs = 10\n",
        "\n",
        "model4 = Sequential()\n",
        "\n",
        "model4.add(Flatten())\n",
        "model4.add(Dense(512))\n",
        "model4.add(Activation('relu'))\n",
        "model4.add(Dropout(0.5))\n",
        "model4.add(Dense(512))\n",
        "model4.add(Activation('relu'))\n",
        "model4.add(Dropout(0.5))\n",
        "model4.add(Dense(512))\n",
        "model4.add(Activation('relu'))\n",
        "model4.add(Dropout(0.5))\n",
        "model4.add(Dense(512))\n",
        "model4.add(Activation('relu'))\n",
        "model4.add(Dropout(0.5))\n",
        "model4.add(Dense(num_classes))\n",
        "model4.add(Activation('softmax'))\n",
        "\n",
        "\n",
        "model4.compile(loss='categorical_crossentropy',\n",
        "              optimizer=opt,\n",
        "              metrics=['accuracy'])\n",
        "m4 = model4.fit_generator(datagen.flow(x_train, y_train,\n",
        "                                     batch_size=batch_size),\n",
        "                        epochs=epochs,\n",
        "                        validation_data=(x_test, y_test),\n",
        "                        workers=4)"
      ],
      "execution_count": 20,
      "outputs": [
        {
          "output_type": "stream",
          "name": "stdout",
          "text": [
            "Epoch 1/10\n"
          ]
        },
        {
          "output_type": "stream",
          "name": "stderr",
          "text": [
            "/usr/local/lib/python3.7/dist-packages/ipykernel_launcher.py:30: UserWarning: `Model.fit_generator` is deprecated and will be removed in a future version. Please use `Model.fit`, which supports generators.\n"
          ]
        },
        {
          "output_type": "stream",
          "name": "stdout",
          "text": [
            "1563/1563 [==============================] - 54s 34ms/step - loss: 2.2152 - accuracy: 0.1533 - val_loss: 2.0394 - val_accuracy: 0.2270\n",
            "Epoch 2/10\n",
            "1563/1563 [==============================] - 54s 34ms/step - loss: 2.0647 - accuracy: 0.2192 - val_loss: 1.9184 - val_accuracy: 0.3043\n",
            "Epoch 3/10\n",
            "1563/1563 [==============================] - 53s 34ms/step - loss: 1.9993 - accuracy: 0.2501 - val_loss: 1.8872 - val_accuracy: 0.3350\n",
            "Epoch 4/10\n",
            "1563/1563 [==============================] - 52s 34ms/step - loss: 1.9689 - accuracy: 0.2688 - val_loss: 1.8302 - val_accuracy: 0.3490\n",
            "Epoch 5/10\n",
            "1563/1563 [==============================] - 54s 34ms/step - loss: 1.9499 - accuracy: 0.2815 - val_loss: 1.8363 - val_accuracy: 0.3590\n",
            "Epoch 6/10\n",
            "1563/1563 [==============================] - 52s 33ms/step - loss: 1.9318 - accuracy: 0.2885 - val_loss: 1.8543 - val_accuracy: 0.3583\n",
            "Epoch 7/10\n",
            "1563/1563 [==============================] - 52s 33ms/step - loss: 1.9154 - accuracy: 0.2993 - val_loss: 1.8289 - val_accuracy: 0.3602\n",
            "Epoch 8/10\n",
            "1563/1563 [==============================] - 52s 33ms/step - loss: 1.9057 - accuracy: 0.3041 - val_loss: 1.8308 - val_accuracy: 0.3772\n",
            "Epoch 9/10\n",
            "1563/1563 [==============================] - 52s 33ms/step - loss: 1.8979 - accuracy: 0.3078 - val_loss: 1.8511 - val_accuracy: 0.3657\n",
            "Epoch 10/10\n",
            "1563/1563 [==============================] - 51s 33ms/step - loss: 1.8853 - accuracy: 0.3167 - val_loss: 1.8758 - val_accuracy: 0.3541\n"
          ]
        }
      ]
    },
    {
      "cell_type": "code",
      "metadata": {
        "id": "GiQyenQ3Y6P9",
        "outputId": "d320c3de-b3f5-40cd-9776-788dcf0bd08c",
        "colab": {
          "base_uri": "https://localhost:8080/",
          "height": 281
        }
      },
      "source": [
        "import matplotlib.pyplot as plt\n",
        "# summarize history for accuracy\n",
        "plt.plot(CNN.history['val_accuracy'])\n",
        "plt.plot(m0.history['val_accuracy'])\n",
        "plt.plot(m1.history['val_accuracy'])\n",
        "plt.plot(m2.history['val_accuracy'])\n",
        "plt.plot(m3.history['val_accuracy'])\n",
        "plt.plot(m4.history['val_accuracy'])\n",
        "plt.title('Accuracy Rate for Each Model')\n",
        "plt.ylabel('accuracy')\n",
        "plt.legend(['CNN', 'simple dense-0 hidden','simple dense-1 hidden'\n",
        "            ,'simple dense-2 hidden','simple dense-3 hidden',\n",
        "           'simple dense-4 hidden'], loc='upper left')\n",
        "plt.savefig('')\n",
        "plt.show()\n"
      ],
      "execution_count": 39,
      "outputs": [
        {
          "output_type": "display_data",
          "data": {
            "image/png": "[encoded data removed]",
            "text/plain": [
              "<Figure size 432x288 with 1 Axes>"
            ]
          },
          "metadata": {
            "needs_background": "light"
          }
        }
      ]
    },
    {
      "cell_type": "markdown",
      "metadata": {
        "id": "6BFBzErAtVjB"
      },
      "source": [
        "The CNN architectures use shared weights and have better performence on the accuracy rate. Hence the same set of matrix elements were updated mutiple times during the transformation and it would facilitate the process and perform better than other single layer model.\n"
      ]
    },
    {
      "cell_type": "code",
      "metadata": {
        "id": "vcq0xCDjoJ5F",
        "outputId": "2a6d79be-4ef2-415e-fcd1-c5134e53f7b9",
        "colab": {
          "base_uri": "https://localhost:8080/"
        }
      },
      "source": [
        "#b\n",
        "modelSig = Sequential()\n",
        "modelSig.add(Conv2D(32, (3, 3), padding='same',\n",
        "                 input_shape=x_train.shape[1:]))\n",
        "modelSig.add(Activation('sigmoid'))\n",
        "modelSig.add(Conv2D(32, (3, 3)))\n",
        "modelSig.add(Activation('sigmoid'))\n",
        "modelSig.add(MaxPooling2D(pool_size=(2, 2)))\n",
        "modelSig.add(Dropout(0.25))\n",
        "\n",
        "modelSig.add(Conv2D(64, (3, 3), padding='same'))\n",
        "modelSig.add(Activation('sigmoid'))\n",
        "modelSig.add(Conv2D(64, (3, 3)))\n",
        "modelSig.add(Activation('sigmoid'))\n",
        "modelSig.add(MaxPooling2D(pool_size=(2, 2)))\n",
        "modelSig.add(Dropout(0.25))\n",
        "\n",
        "modelSig.add(Flatten())\n",
        "modelSig.add(Dense(512))\n",
        "modelSig.add(Activation('sigmoid'))\n",
        "modelSig.add(Dropout(0.5))\n",
        "modelSig.add(Dense(num_classes))\n",
        "modelSig.add(Activation('softmax'))\n",
        "\n",
        "modelSig.compile(loss='categorical_crossentropy',\n",
        "              optimizer=opt,\n",
        "              metrics=['accuracy'])\n",
        "\n",
        "# Fit the model on the batches generated by datagen.flow().\n",
        "Sigmoid = modelSig.fit_generator(datagen.flow(x_train, y_train,\n",
        "                                     batch_size=batch_size),\n",
        "                        epochs=epochs,\n",
        "                        validation_data=(x_test, y_test),\n",
        "                        workers=4)\n"
      ],
      "execution_count": 31,
      "outputs": [
        {
          "output_type": "stream",
          "name": "stdout",
          "text": [
            "Epoch 1/10\n"
          ]
        },
        {
          "output_type": "stream",
          "name": "stderr",
          "text": [
            "/usr/local/lib/python3.7/dist-packages/ipykernel_launcher.py:36: UserWarning: `Model.fit_generator` is deprecated and will be removed in a future version. Please use `Model.fit`, which supports generators.\n"
          ]
        },
        {
          "output_type": "stream",
          "name": "stdout",
          "text": [
            "1563/1563 [==============================] - 68s 42ms/step - loss: 2.3334 - accuracy: 0.1005 - val_loss: 2.3049 - val_accuracy: 0.1000\n",
            "Epoch 2/10\n",
            "1563/1563 [==============================] - 59s 37ms/step - loss: 2.3078 - accuracy: 0.0977 - val_loss: 2.3036 - val_accuracy: 0.1000\n",
            "Epoch 3/10\n",
            "1563/1563 [==============================] - 58s 37ms/step - loss: 2.3067 - accuracy: 0.1016 - val_loss: 2.3029 - val_accuracy: 0.1000\n",
            "Epoch 4/10\n",
            "1563/1563 [==============================] - 58s 37ms/step - loss: 2.3056 - accuracy: 0.1007 - val_loss: 2.3035 - val_accuracy: 0.1000\n",
            "Epoch 5/10\n",
            "1563/1563 [==============================] - 59s 37ms/step - loss: 2.3054 - accuracy: 0.1007 - val_loss: 2.3030 - val_accuracy: 0.1000\n",
            "Epoch 6/10\n",
            "1563/1563 [==============================] - 58s 37ms/step - loss: 2.3054 - accuracy: 0.0994 - val_loss: 2.3031 - val_accuracy: 0.1000\n",
            "Epoch 7/10\n",
            "1563/1563 [==============================] - 59s 38ms/step - loss: 2.3049 - accuracy: 0.1006 - val_loss: 2.3031 - val_accuracy: 0.1000\n",
            "Epoch 8/10\n",
            "1563/1563 [==============================] - 58s 37ms/step - loss: 2.3049 - accuracy: 0.1009 - val_loss: 2.3032 - val_accuracy: 0.1000\n",
            "Epoch 9/10\n",
            "1563/1563 [==============================] - 58s 37ms/step - loss: 2.3043 - accuracy: 0.0996 - val_loss: 2.3028 - val_accuracy: 0.1000\n",
            "Epoch 10/10\n",
            "1563/1563 [==============================] - 59s 38ms/step - loss: 2.3042 - accuracy: 0.1007 - val_loss: 2.3032 - val_accuracy: 0.1000\n"
          ]
        }
      ]
    },
    {
      "cell_type": "code",
      "metadata": {
        "id": "06HQMMCZokaP",
        "outputId": "afe174d7-63e8-4ff7-96e9-8f8629e97eaf",
        "colab": {
          "base_uri": "https://localhost:8080/",
          "height": 281
        }
      },
      "source": [
        "#summarize history for accuracy\n",
        "plt.plot(CNN.history['accuracy'])\n",
        "plt.plot(Sigmoid.history['accuracy'])\n",
        "plt.title('validation accuracy of models using ReLU vs. Sigmoid')\n",
        "plt.ylabel('accuracy')\n",
        "plt.legend(['ReLU', 'Sigmoid'], loc='lower right')\n",
        "plt.savefig('')\n",
        "plt.show()"
      ],
      "execution_count": 38,
      "outputs": [
        {
          "output_type": "display_data",
          "data": {
            "image/png": "[encoded data removed]",
            "text/plain": [
              "<Figure size 432x288 with 1 Axes>"
            ]
          },
          "metadata": {
            "needs_background": "light"
          }
        }
      ]
    },
    {
      "cell_type": "markdown",
      "metadata": {
        "id": "TUsL0YLSz-wa"
      },
      "source": [
        "Relu give better results than the sigmoid elements. Sigmoid units are more subject to the gradient vanishing problem and the starting point is in one of the tails of the sigmoid whose gradient is near zero. "
      ]
    },
    {
      "cell_type": "code",
      "source": [
        "from keras.utils import np_utils\n",
        "from tensorflow import keras\n",
        "from keras import optimizers\n",
        "optimizer=keras.optimizers.RMSprop(learning_rate=0.01)\n",
        "\n",
        "y_train = keras.utils.to_categorical(y_train, num_classes)\n",
        "y_test =keras.utils.to_categorical(y_test, num_classes)"
      ],
      "metadata": {
        "id": "-P8_EU0diu33"
      },
      "execution_count": 81,
      "outputs": []
    },
    {
      "cell_type": "code",
      "metadata": {
        "id": "mp_52nfPo6s4",
        "outputId": "2dac4303-7ec1-408f-99f9-7c4fd6304708",
        "colab": {
          "base_uri": "https://localhost:8080/"
        }
      },
      "source": [
        "#c\n",
        "batch_size = 32\n",
        "num_classes = 10\n",
        "epochs = 10\n",
        "data_augmentation = True\n",
        "num_predictions = 20\n",
        "save_dir = os.path.join(os.getcwd(), 'saved_models')\n",
        "model_name = 'keras_cifar10_trained_model.h5'\n",
        "\n",
        "# The data, split between train and test sets:\n",
        "(x_train, y_train), (x_test, y_test) = cifar10.load_data()\n",
        "print('x_train shape:', x_train.shape)\n",
        "print(x_train.shape[0], 'train samples')\n",
        "print(x_test.shape[0], 'test samples')\n",
        "\n",
        "# Convert class vectors to binary class matrices.\n",
        "y_train = keras.utils.to_categorical(y_train, num_classes)\n",
        "y_test = keras.utils.to_categorical(y_test, num_classes)\n",
        "\n",
        "model = Sequential()\n",
        "model.add(Conv2D(32, (3, 3), padding='same',\n",
        "                 input_shape=x_train.shape[1:]))\n",
        "model.add(Activation('relu'))\n",
        "model.add(Conv2D(32, (3, 3)))\n",
        "model.add(Activation('relu'))\n",
        "model.add(MaxPooling2D(pool_size=(2, 2)))\n",
        "model.add(Dropout(0.25))\n",
        "\n",
        "model.add(Conv2D(64, (3, 3), padding='same'))\n",
        "model.add(Activation('relu'))\n",
        "model.add(Conv2D(64, (3, 3)))\n",
        "model.add(Activation('relu'))\n",
        "model.add(MaxPooling2D(pool_size=(2, 2)))\n",
        "model.add(Dropout(0.25))\n",
        "\n",
        "model.add(Flatten())\n",
        "model.add(Dense(512))\n",
        "model.add(Activation('relu'))\n",
        "model.add(Dropout(0.5))\n",
        "model.add(Dense(num_classes))\n",
        "model.add(Activation('softmax'))\n",
        "\n",
        "# initiate RMSprop optimizer\n",
        "opt = keras.optimizers.RMSprop(learning_rate=0.0001, decay=1e-6)\n",
        "\n",
        "# Let's train the model using RMSprop\n",
        "model.compile(loss='categorical_crossentropy',\n",
        "              optimizer=opt,\n",
        "              metrics=['accuracy'])\n",
        "\n",
        "x_train = x_train.astype('float32')\n",
        "x_test = x_test.astype('float32')\n",
        "x_train /= 255\n",
        "x_test /= 255\n",
        "\n",
        "if not data_augmentation:\n",
        "    print('Not using data augmentation.')\n",
        "    model.fit(x_train, y_train,\n",
        "              batch_size=batch_size,\n",
        "              epochs=epochs,\n",
        "              validation_data=(x_test, y_test),\n",
        "              shuffle=True)\n",
        "else:\n",
        "    print('Using real-time data augmentation.')\n",
        "    # This will do preprocessing and realtime data augmentation:\n",
        "    datagen = ImageDataGenerator(\n",
        "        featurewise_center=False,  # set input mean to 0 over the dataset\n",
        "        samplewise_center=False,  # set each sample mean to 0\n",
        "        featurewise_std_normalization=False,  # divide inputs by std of the dataset\n",
        "        samplewise_std_normalization=False,  # divide each input by its std\n",
        "        zca_whitening=False,  # apply ZCA whitening\n",
        "        zca_epsilon=1e-06,  # epsilon for ZCA whitening\n",
        "        rotation_range=0,  # randomly rotate images in the range (degrees, 0 to 180)\n",
        "        # randomly shift images horizontally (fraction of total width)\n",
        "        width_shift_range=0.1,\n",
        "        # randomly shift images vertically (fraction of total height)\n",
        "        height_shift_range=0.1,\n",
        "        shear_range=0.,  # set range for random shear\n",
        "        zoom_range=0.,  # set range for random zoom\n",
        "        channel_shift_range=0.,  # set range for random channel shifts\n",
        "        # set mode for filling points outside the input boundaries\n",
        "        fill_mode='nearest',\n",
        "        cval=0.,  # value used for fill_mode = \"constant\"\n",
        "        horizontal_flip=True,  # randomly flip images\n",
        "        vertical_flip=False,  # randomly flip images\n",
        "        # set rescaling factor (applied before any other transformation)\n",
        "        rescale=None,\n",
        "        # set function that will be applied on each input\n",
        "        preprocessing_function=None,\n",
        "        # image data format, either \"channels_first\" or \"channels_last\"\n",
        "        data_format=None,\n",
        "        # fraction of images reserved for validation (strictly between 0 and 1)\n",
        "        validation_split=0.0)\n",
        "\n",
        "    # Compute quantities required for feature-wise normalization\n",
        "    # (std, mean, and principal components if ZCA whitening is applied).\n",
        "    datagen.fit(x_train)\n",
        "\n",
        "    # Fit the model on the batches generated by datagen.flow().\n",
        "    CNN = model.fit_generator(datagen.flow(x_train, y_train,\n",
        "                                     batch_size=batch_size),\n",
        "                        epochs=epochs,\n",
        "                        validation_data=(x_test, y_test),\n",
        "                        workers=4)"
      ],
      "execution_count": 84,
      "outputs": [
        {
          "output_type": "stream",
          "name": "stdout",
          "text": [
            "x_train shape: (50000, 32, 32, 3)\n",
            "50000 train samples\n",
            "10000 test samples\n",
            "Using real-time data augmentation.\n",
            "Epoch 1/10\n"
          ]
        },
        {
          "output_type": "stream",
          "name": "stderr",
          "text": [
            "/usr/local/lib/python3.7/dist-packages/ipykernel_launcher.py:104: UserWarning: `Model.fit_generator` is deprecated and will be removed in a future version. Please use `Model.fit`, which supports generators.\n"
          ]
        },
        {
          "output_type": "stream",
          "name": "stdout",
          "text": [
            "1563/1563 [==============================] - 62s 39ms/step - loss: 1.8766 - accuracy: 0.3128 - val_loss: 1.5898 - val_accuracy: 0.4253\n",
            "Epoch 2/10\n",
            "1563/1563 [==============================] - 61s 39ms/step - loss: 1.6076 - accuracy: 0.4121 - val_loss: 1.3955 - val_accuracy: 0.4966\n",
            "Epoch 3/10\n",
            "1563/1563 [==============================] - 58s 37ms/step - loss: 1.4849 - accuracy: 0.4635 - val_loss: 1.3336 - val_accuracy: 0.5119\n",
            "Epoch 4/10\n",
            "1563/1563 [==============================] - 58s 37ms/step - loss: 1.3977 - accuracy: 0.4972 - val_loss: 1.3290 - val_accuracy: 0.5167\n",
            "Epoch 5/10\n",
            "1563/1563 [==============================] - 57s 37ms/step - loss: 1.3268 - accuracy: 0.5262 - val_loss: 1.1939 - val_accuracy: 0.5728\n",
            "Epoch 6/10\n",
            "1563/1563 [==============================] - 57s 37ms/step - loss: 1.2680 - accuracy: 0.5486 - val_loss: 1.1442 - val_accuracy: 0.5958\n",
            "Epoch 7/10\n",
            "1563/1563 [==============================] - 58s 37ms/step - loss: 1.2258 - accuracy: 0.5669 - val_loss: 1.1106 - val_accuracy: 0.6105\n",
            "Epoch 8/10\n",
            "1563/1563 [==============================] - 57s 36ms/step - loss: 1.1843 - accuracy: 0.5812 - val_loss: 1.0222 - val_accuracy: 0.6399\n",
            "Epoch 9/10\n",
            "1563/1563 [==============================] - 58s 37ms/step - loss: 1.1494 - accuracy: 0.5913 - val_loss: 1.0013 - val_accuracy: 0.6473\n",
            "Epoch 10/10\n",
            "1563/1563 [==============================] - 58s 37ms/step - loss: 1.1153 - accuracy: 0.6074 - val_loss: 1.0802 - val_accuracy: 0.6347\n"
          ]
        }
      ]
    },
    {
      "cell_type": "code",
      "metadata": {
        "id": "U_Ye9aIVpPKV",
        "outputId": "78aa3f8e-480d-4861-ab14-4472743c6173",
        "colab": {
          "base_uri": "https://localhost:8080/"
        }
      },
      "source": [
        "#without dropout & with augmentation\n",
        "epochs = 10\n",
        "\n",
        "data_augmentation = True\n",
        "\n",
        "model = Sequential()\n",
        "model.add(Conv2D(32, (3, 3), padding='same',\n",
        "                 input_shape=x_train.shape[1:]))\n",
        "model.add(Activation('relu'))\n",
        "model.add(Conv2D(32, (3, 3)))\n",
        "model.add(Activation('relu'))\n",
        "model.add(MaxPooling2D(pool_size=(2, 2)))\n",
        "\n",
        "\n",
        "model.add(Conv2D(64, (3, 3), padding='same'))\n",
        "model.add(Activation('relu'))\n",
        "model.add(Conv2D(64, (3, 3)))\n",
        "model.add(Activation('relu'))\n",
        "model.add(MaxPooling2D(pool_size=(2, 2)))\n",
        "\n",
        "\n",
        "model.add(Flatten())\n",
        "model.add(Dense(512))\n",
        "model.add(Activation('relu'))\n",
        "model.add(Dense(num_classes))\n",
        "model.add(Activation('softmax'))\n",
        "\n",
        "\n",
        "\n",
        "# Let's train the model using RMSprop\n",
        "model.compile(loss='categorical_crossentropy',\n",
        "              optimizer=opt,\n",
        "              metrics=['accuracy'])\n",
        "\n",
        "\n",
        "if not data_augmentation:\n",
        "    print('Not using data augmentation.')\n",
        "    Aug_NoDrop = model.fit(x_train, y_train,\n",
        "              batch_size=batch_size,\n",
        "              epochs=epochs,\n",
        "              validation_data=(x_test, y_test),\n",
        "              shuffle=True)\n",
        "else:\n",
        "    print('Using real-time data augmentation.')\n",
        "    # This will do preprocessing and realtime data augmentation:\n",
        "    datagen = ImageDataGenerator(\n",
        "        featurewise_center=False,  # set input mean to 0 over the dataset\n",
        "        samplewise_center=False,  # set each sample mean to 0\n",
        "        featurewise_std_normalization=False,  # divide inputs by std of the dataset\n",
        "        samplewise_std_normalization=False,  # divide each input by its std\n",
        "        zca_whitening=False,  # apply ZCA whitening\n",
        "        zca_epsilon=1e-06,  # epsilon for ZCA whitening\n",
        "        rotation_range=0,  # randomly rotate images in the range (degrees, 0 to 180)\n",
        "        # randomly shift images horizontally (fraction of total width)\n",
        "        width_shift_range=0.1,\n",
        "        # randomly shift images vertically (fraction of total height)\n",
        "        height_shift_range=0.1,\n",
        "        shear_range=0.,  # set range for random shear\n",
        "        zoom_range=0.,  # set range for random zoom\n",
        "        channel_shift_range=0.,  # set range for random channel shifts\n",
        "        # set mode for filling points outside the input boundaries\n",
        "        fill_mode='nearest',\n",
        "        cval=0.,  # value used for fill_mode = \"constant\"\n",
        "        horizontal_flip=True,  # randomly flip images\n",
        "        vertical_flip=False,  # randomly flip images\n",
        "        # set rescaling factor (applied before any other transformation)\n",
        "        rescale=None,\n",
        "        # set function that will be applied on each input\n",
        "        preprocessing_function=None,\n",
        "        # image data format, either \"channels_first\" or \"channels_last\"\n",
        "        data_format=None,\n",
        "        # fraction of images reserved for validation (strictly between 0 and 1)\n",
        "        validation_split=0.0)\n",
        "\n",
        "\n",
        "\n",
        "    # Compute quantities required for feature-wise normalization\n",
        "    # (std, mean, and principal components if ZCA whitening is applied).\n",
        "    datagen.fit(x_train)\n",
        "\n",
        "    # Fit the model on the batches generated by datagen.flow().\n",
        "    Aug_NoDrop= model.fit_generator(datagen.flow(x_train, y_train,\n",
        "                                     batch_size=batch_size),\n",
        "                        epochs=epochs,\n",
        "                        validation_data=(x_test, y_test),\n",
        "                        workers=4)"
      ],
      "execution_count": 85,
      "outputs": [
        {
          "output_type": "stream",
          "name": "stdout",
          "text": [
            "Using real-time data augmentation.\n",
            "Epoch 1/10\n"
          ]
        },
        {
          "output_type": "stream",
          "name": "stderr",
          "text": [
            "/usr/local/lib/python3.7/dist-packages/ipykernel_launcher.py:86: UserWarning: `Model.fit_generator` is deprecated and will be removed in a future version. Please use `Model.fit`, which supports generators.\n"
          ]
        },
        {
          "output_type": "stream",
          "name": "stdout",
          "text": [
            "1563/1563 [==============================] - 58s 37ms/step - loss: 1.7359 - accuracy: 0.3733 - val_loss: 1.5478 - val_accuracy: 0.4436\n",
            "Epoch 2/10\n",
            "1563/1563 [==============================] - 58s 37ms/step - loss: 1.4506 - accuracy: 0.4812 - val_loss: 1.2567 - val_accuracy: 0.5538\n",
            "Epoch 3/10\n",
            "1563/1563 [==============================] - 58s 37ms/step - loss: 1.3244 - accuracy: 0.5298 - val_loss: 1.1964 - val_accuracy: 0.5737\n",
            "Epoch 4/10\n",
            "1563/1563 [==============================] - 59s 38ms/step - loss: 1.2278 - accuracy: 0.5664 - val_loss: 1.2599 - val_accuracy: 0.5576\n",
            "Epoch 5/10\n",
            "1563/1563 [==============================] - 59s 37ms/step - loss: 1.1543 - accuracy: 0.5938 - val_loss: 1.1453 - val_accuracy: 0.6076\n",
            "Epoch 6/10\n",
            "1563/1563 [==============================] - 58s 37ms/step - loss: 1.0954 - accuracy: 0.6144 - val_loss: 1.0201 - val_accuracy: 0.6423\n",
            "Epoch 7/10\n",
            "1563/1563 [==============================] - 58s 37ms/step - loss: 1.0461 - accuracy: 0.6322 - val_loss: 0.9768 - val_accuracy: 0.6587\n",
            "Epoch 8/10\n",
            "1563/1563 [==============================] - 57s 37ms/step - loss: 1.0026 - accuracy: 0.6491 - val_loss: 0.9622 - val_accuracy: 0.6696\n",
            "Epoch 9/10\n",
            "1563/1563 [==============================] - 59s 37ms/step - loss: 0.9667 - accuracy: 0.6612 - val_loss: 0.9989 - val_accuracy: 0.6625\n",
            "Epoch 10/10\n",
            "1563/1563 [==============================] - 58s 37ms/step - loss: 0.9301 - accuracy: 0.6756 - val_loss: 0.9389 - val_accuracy: 0.6766\n"
          ]
        }
      ]
    },
    {
      "cell_type": "code",
      "metadata": {
        "id": "7ap-QOXnqO_p",
        "outputId": "3daec585-646f-492f-a4f4-db323d51a332",
        "colab": {
          "base_uri": "https://localhost:8080/"
        }
      },
      "source": [
        "#without augmentation & with dropout\n",
        "model = Sequential()\n",
        "model.add(Conv2D(32, (3, 3), padding='same',\n",
        "                 input_shape=x_train.shape[1:]))\n",
        "model.add(Activation('relu'))\n",
        "model.add(Conv2D(32, (3, 3)))\n",
        "model.add(Activation('relu'))\n",
        "model.add(MaxPooling2D(pool_size=(2, 2)))\n",
        "model.add(Dropout(0.25))\n",
        "\n",
        "model.add(Conv2D(64, (3, 3), padding='same'))\n",
        "model.add(Activation('relu'))\n",
        "model.add(Conv2D(64, (3, 3)))\n",
        "model.add(Activation('relu'))\n",
        "model.add(MaxPooling2D(pool_size=(2, 2)))\n",
        "model.add(Dropout(0.25))\n",
        "\n",
        "model.add(Flatten())\n",
        "model.add(Dense(512))\n",
        "model.add(Activation('relu'))\n",
        "model.add(Dropout(0.5))\n",
        "model.add(Dense(num_classes))\n",
        "model.add(Activation('softmax'))\n",
        "\n",
        "# Let's train the model using RMSprop\n",
        "model.compile(loss='categorical_crossentropy',\n",
        "              optimizer=opt,\n",
        "              metrics=['accuracy'])\n",
        "\n",
        "\n",
        "data_augmentation = False\n",
        "\n",
        "if not data_augmentation:\n",
        "    print('Not using data augmentation.')\n",
        "    NoAug = model.fit(x_train, y_train,\n",
        "              batch_size=batch_size,\n",
        "              epochs=epochs,\n",
        "              validation_data=(x_test, y_test),\n",
        "              shuffle=True)\n",
        "else:\n",
        "    print('Using real-time data augmentation.')\n",
        "    # This will do preprocessing and realtime data augmentation:\n",
        "    datagen = ImageDataGenerator(\n",
        "        featurewise_center=False,  # set input mean to 0 over the dataset\n",
        "        samplewise_center=False,  # set each sample mean to 0\n",
        "        featurewise_std_normalization=False,  # divide inputs by std of the dataset\n",
        "        samplewise_std_normalization=False,  # divide each input by its std\n",
        "        zca_whitening=False,  # apply ZCA whitening\n",
        "        zca_epsilon=1e-06,  # epsilon for ZCA whitening\n",
        "        rotation_range=0,  # randomly rotate images in the range (degrees, 0 to 180)\n",
        "        # randomly shift images horizontally (fraction of total width)\n",
        "        width_shift_range=0.1,\n",
        "        # randomly shift images vertically (fraction of total height)\n",
        "        height_shift_range=0.1,\n",
        "        shear_range=0.,  # set range for random shear\n",
        "        zoom_range=0.,  # set range for random zoom\n",
        "        channel_shift_range=0.,  # set range for random channel shifts\n",
        "        # set mode for filling points outside the input boundaries\n",
        "        fill_mode='nearest',\n",
        "        cval=0.,  # value used for fill_mode = \"constant\"\n",
        "        horizontal_flip=True,  # randomly flip images\n",
        "        vertical_flip=False,  # randomly flip images\n",
        "        # set rescaling factor (applied before any other transformation)\n",
        "        rescale=None,\n",
        "        # set function that will be applied on each input\n",
        "        preprocessing_function=None,\n",
        "        # image data format, either \"channels_first\" or \"channels_last\"\n",
        "        data_format=None,\n",
        "        # fraction of images reserved for validation (strictly between 0 and 1)\n",
        "        validation_split=0.0)\n",
        "\n",
        "    # Compute quantities required for feature-wise normalization\n",
        "    # (std, mean, and principal components if ZCA whitening is applied).\n",
        "    datagen.fit(x_train)\n",
        "\n",
        "    # Fit the model on the batches generated by datagen.flow().\n",
        "    NoAug = model.fit_generator(datagen.flow(x_train, y_train,\n",
        "                                     batch_size=batch_size),\n",
        "                        epochs=epochs,\n",
        "                        validation_data=(x_test, y_test),\n",
        "                        workers=4)"
      ],
      "execution_count": 87,
      "outputs": [
        {
          "output_type": "stream",
          "name": "stdout",
          "text": [
            "Not using data augmentation.\n",
            "Epoch 1/10\n",
            "1563/1563 [==============================] - 31s 19ms/step - loss: 1.8398 - accuracy: 0.3239 - val_loss: 1.5851 - val_accuracy: 0.4144\n",
            "Epoch 2/10\n",
            "1563/1563 [==============================] - 29s 18ms/step - loss: 1.4958 - accuracy: 0.4591 - val_loss: 1.3666 - val_accuracy: 0.5143\n",
            "Epoch 3/10\n",
            "1563/1563 [==============================] - 29s 18ms/step - loss: 1.3539 - accuracy: 0.5162 - val_loss: 1.2947 - val_accuracy: 0.5435\n",
            "Epoch 4/10\n",
            "1563/1563 [==============================] - 29s 18ms/step - loss: 1.2595 - accuracy: 0.5502 - val_loss: 1.2361 - val_accuracy: 0.5605\n",
            "Epoch 5/10\n",
            "1563/1563 [==============================] - 29s 18ms/step - loss: 1.1785 - accuracy: 0.5832 - val_loss: 1.1106 - val_accuracy: 0.6071\n",
            "Epoch 6/10\n",
            "1563/1563 [==============================] - 29s 19ms/step - loss: 1.1142 - accuracy: 0.6086 - val_loss: 1.0446 - val_accuracy: 0.6373\n",
            "Epoch 7/10\n",
            "1563/1563 [==============================] - 29s 19ms/step - loss: 1.0561 - accuracy: 0.6299 - val_loss: 1.0014 - val_accuracy: 0.6535\n",
            "Epoch 8/10\n",
            "1563/1563 [==============================] - 29s 19ms/step - loss: 1.0111 - accuracy: 0.6454 - val_loss: 1.0030 - val_accuracy: 0.6413\n",
            "Epoch 9/10\n",
            "1563/1563 [==============================] - 29s 18ms/step - loss: 0.9711 - accuracy: 0.6592 - val_loss: 0.9483 - val_accuracy: 0.6682\n",
            "Epoch 10/10\n",
            "1563/1563 [==============================] - 29s 19ms/step - loss: 0.9410 - accuracy: 0.6719 - val_loss: 0.8796 - val_accuracy: 0.6957\n"
          ]
        }
      ]
    },
    {
      "cell_type": "code",
      "metadata": {
        "id": "I4utQguQq3oj",
        "outputId": "98ba1664-13bc-418d-f84c-1f6609922776",
        "colab": {
          "base_uri": "https://localhost:8080/"
        }
      },
      "source": [
        "#without augmentation & without dropout\n",
        "epochs = 10\n",
        "\n",
        "data_augmentation = False\n",
        "\n",
        "model = Sequential()\n",
        "model.add(Conv2D(32, (3, 3), padding='same',\n",
        "                 input_shape=x_train.shape[1:]))\n",
        "model.add(Activation('relu'))\n",
        "model.add(Conv2D(32, (3, 3)))\n",
        "model.add(Activation('relu'))\n",
        "model.add(MaxPooling2D(pool_size=(2, 2)))\n",
        "\n",
        "model.add(Conv2D(64, (3, 3), padding='same'))\n",
        "model.add(Activation('relu'))\n",
        "model.add(Conv2D(64, (3, 3)))\n",
        "model.add(Activation('relu'))\n",
        "model.add(MaxPooling2D(pool_size=(2, 2)))\n",
        "\n",
        "model.add(Flatten())\n",
        "model.add(Dense(512))\n",
        "model.add(Activation('relu'))\n",
        "model.add(Dense(num_classes))\n",
        "model.add(Activation('softmax'))\n",
        "\n",
        "# Let's train the model using RMSprop\n",
        "model.compile(loss='categorical_crossentropy',\n",
        "              optimizer=opt,\n",
        "              metrics=['accuracy'])\n",
        "\n",
        "\n",
        "if not data_augmentation:\n",
        "    print('Not using data augmentation.')\n",
        "    NoNo = model.fit(x_train, y_train,\n",
        "              batch_size=batch_size,\n",
        "              epochs=epochs,\n",
        "              validation_data=(x_test, y_test),\n",
        "              shuffle=True)\n",
        "else:\n",
        "    print('Using real-time data augmentation.')\n",
        "    # This will do preprocessing and realtime data augmentation:\n",
        "    datagen = ImageDataGenerator(\n",
        "        featurewise_center=False,  # set input mean to 0 over the dataset\n",
        "        samplewise_center=False,  # set each sample mean to 0\n",
        "        featurewise_std_normalization=False,  # divide inputs by std of the dataset\n",
        "        samplewise_std_normalization=False,  # divide each input by its std\n",
        "        zca_whitening=False,  # apply ZCA whitening\n",
        "        zca_epsilon=1e-06,  # epsilon for ZCA whitening\n",
        "        rotation_range=0,  # randomly rotate images in the range (degrees, 0 to 180)\n",
        "        # randomly shift images horizontally (fraction of total width)\n",
        "        width_shift_range=0.1,\n",
        "        # randomly shift images vertically (fraction of total height)\n",
        "        height_shift_range=0.1,\n",
        "        shear_range=0.,  # set range for random shear\n",
        "        zoom_range=0.,  # set range for random zoom\n",
        "        channel_shift_range=0.,  # set range for random channel shifts\n",
        "        # set mode for filling points outside the input boundaries\n",
        "        fill_mode='nearest',\n",
        "        cval=0.,  # value used for fill_mode = \"constant\"\n",
        "        horizontal_flip=True,  # randomly flip images\n",
        "        vertical_flip=False,  # randomly flip images\n",
        "        # set rescaling factor (applied before any other transformation)\n",
        "        rescale=None,\n",
        "        # set function that will be applied on each input\n",
        "        preprocessing_function=None,\n",
        "        # image data format, either \"channels_first\" or \"channels_last\"\n",
        "        data_format=None,\n",
        "        # fraction of images reserved for validation (strictly between 0 and 1)\n",
        "        validation_split=0.0)\n",
        "\n",
        "    # Compute quantities required for feature-wise normalization\n",
        "    # (std, mean, and principal components if ZCA whitening is applied).\n",
        "    datagen.fit(x_train)\n",
        "\n",
        "    # Fit the model on the batches generated by datagen.flow().\n",
        "    NoNo = model.fit_generator(datagen.flow(x_train, y_train,\n",
        "                                     batch_size=batch_size),\n",
        "                        epochs=epochs,\n",
        "                        validation_data=(x_test, y_test),\n",
        "                        workers=4)"
      ],
      "execution_count": 86,
      "outputs": [
        {
          "output_type": "stream",
          "name": "stdout",
          "text": [
            "Not using data augmentation.\n",
            "Epoch 1/10\n",
            "1563/1563 [==============================] - 29s 18ms/step - loss: 1.6939 - accuracy: 0.3926 - val_loss: 1.4261 - val_accuracy: 0.4870\n",
            "Epoch 2/10\n",
            "1563/1563 [==============================] - 33s 21ms/step - loss: 1.3502 - accuracy: 0.5196 - val_loss: 1.2954 - val_accuracy: 0.5413\n",
            "Epoch 3/10\n",
            "1563/1563 [==============================] - 30s 19ms/step - loss: 1.2020 - accuracy: 0.5745 - val_loss: 1.2264 - val_accuracy: 0.5654\n",
            "Epoch 4/10\n",
            "1563/1563 [==============================] - 29s 19ms/step - loss: 1.0955 - accuracy: 0.6159 - val_loss: 1.0571 - val_accuracy: 0.6295\n",
            "Epoch 5/10\n",
            "1563/1563 [==============================] - 28s 18ms/step - loss: 1.0058 - accuracy: 0.6476 - val_loss: 1.1103 - val_accuracy: 0.6097\n",
            "Epoch 6/10\n",
            "1563/1563 [==============================] - 28s 18ms/step - loss: 0.9342 - accuracy: 0.6759 - val_loss: 1.0316 - val_accuracy: 0.6490\n",
            "Epoch 7/10\n",
            "1563/1563 [==============================] - 27s 17ms/step - loss: 0.8709 - accuracy: 0.6973 - val_loss: 1.0613 - val_accuracy: 0.6342\n",
            "Epoch 8/10\n",
            "1563/1563 [==============================] - 28s 18ms/step - loss: 0.8127 - accuracy: 0.7188 - val_loss: 0.9272 - val_accuracy: 0.6824\n",
            "Epoch 9/10\n",
            "1563/1563 [==============================] - 28s 18ms/step - loss: 0.7606 - accuracy: 0.7365 - val_loss: 0.9527 - val_accuracy: 0.6746\n",
            "Epoch 10/10\n",
            "1563/1563 [==============================] - 29s 18ms/step - loss: 0.7136 - accuracy: 0.7543 - val_loss: 0.8564 - val_accuracy: 0.7068\n"
          ]
        }
      ]
    },
    {
      "cell_type": "code",
      "metadata": {
        "id": "HmL5ut1Y-Fov",
        "outputId": "a94496a5-cca9-41e8-e513-a073accb8a14",
        "colab": {
          "base_uri": "https://localhost:8080/",
          "height": 572
        }
      },
      "source": [
        "# summarize history for validation accuracy\n",
        "plt.plot(CNN.history['val_accuracy'])\n",
        "plt.plot(Aug_NoDrop.history['val_accuracy'])\n",
        "plt.plot(NoNo.history['val_accuracy'])\n",
        "plt.plot(NoAug.history['val_accuracy'])\n",
        "plt.title('validation accuracy')\n",
        "plt.ylabel('accuracy')\n",
        "plt.xlabel('epoch')\n",
        "plt.legend(['dropout, augmentation', 'no dropout, augmentation',\n",
        "           'dropout, no augmentation','no dropout, no augmentation'], loc='upper left')\n",
        "plt.savefig('')\n",
        "plt.show()\n",
        "\n",
        "# summarize history for training accuracy\n",
        "plt.plot(CNN.history['accuracy'])\n",
        "plt.plot(Aug_NoDrop.history['accuracy'])\n",
        "plt.plot(NoAug.history['accuracy'])\n",
        "plt.plot(NoNo.history['accuracy'])\n",
        "plt.title('training accuracy')\n",
        "plt.ylabel('training_accuracy')\n",
        "plt.xlabel('epoch')\n",
        "plt.legend(['dropout, augmentation', 'dropout, augmentation',\n",
        "           'dropout, no augmentation','dropout, no augmentation'], loc='upper left')\n",
        "plt.show()"
      ],
      "execution_count": 89,
      "outputs": [
        {
          "output_type": "display_data",
          "data": {
            "image/png": "[encoded data removed]",
            "text/plain": [
              "<Figure size 432x288 with 1 Axes>"
            ]
          },
          "metadata": {
            "needs_background": "light"
          }
        },
        {
          "output_type": "display_data",
          "data": {
            "image/png": "[encoded data removed]",
            "text/plain": [
              "<Figure size 432x288 with 1 Axes>"
            ]
          },
          "metadata": {
            "needs_background": "light"
          }
        }
      ]
    },
    {
      "cell_type": "markdown",
      "metadata": {
        "id": "oDD2DXEG7_6X"
      },
      "source": [
        "without dropout and without data augmentation learns the fastest. Data augmentation helps to improve the generalization. Dropout helps to improve generalization when there is no data augmentation.\n",
        "\n",
        "\n"
      ]
    }
  ]
}
